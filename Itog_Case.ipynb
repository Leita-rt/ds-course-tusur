{
 "cells": [
  {
   "cell_type": "markdown",
   "metadata": {
    "id": "6Cd-vYQdABlf"
   },
   "source": [
    "# Аутентификация по параметрам динамики простановки подписи на графическом планшете"
   ]
  },
  {
   "cell_type": "markdown",
   "metadata": {
    "id": "OL0nYOsrA5s7"
   },
   "source": [
    "## Импорт библиотек и загрузка данных"
   ]
  },
  {
   "cell_type": "code",
   "execution_count": 1,
   "metadata": {},
   "outputs": [],
   "source": [
    "from IPython.display import clear_output"
   ]
  },
  {
   "cell_type": "code",
   "execution_count": 2,
   "metadata": {
    "colab": {
     "base_uri": "https://localhost:8080/"
    },
    "id": "MFyxekuoxd9H",
    "outputId": "75bb2ed6-f473-42ab-faf9-5ff4a56f0cee"
   },
   "outputs": [],
   "source": [
    "%pip install tensorflow\n",
    "%pip install pydot\n",
    "%pip install graphviz\n",
    "clear_output()"
   ]
  },
  {
   "cell_type": "code",
   "execution_count": 3,
   "metadata": {
    "id": "VkX7dfDHSiUm"
   },
   "outputs": [],
   "source": [
    "import pandas as pd\n",
    "import numpy as np\n",
    "import tensorflow as tf\n",
    "from tensorflow.keras.models import Sequential\n",
    "from tensorflow.keras.layers import Dense, Dropout, BatchNormalization\n",
    "from sklearn.model_selection import train_test_split\n",
    "from tensorflow.keras.utils import plot_model\n",
    "import pylab\n",
    "pylab.rcParams['figure.figsize'] = (10, 5)\n",
    "import matplotlib.pyplot as plt\n",
    "from sklearn.model_selection import RandomizedSearchCV\n",
    "from sklearn.model_selection import cross_val_score\n",
    "from sklearn.metrics import classification_report"
   ]
  },
  {
   "cell_type": "markdown",
   "metadata": {
    "id": "YLU4Mzx-Jy_9"
   },
   "source": [
    "Зафиксируем сид генерации случайных чисел:"
   ]
  },
  {
   "cell_type": "code",
   "execution_count": 4,
   "metadata": {
    "id": "vAwy3kOvJ_g0"
   },
   "outputs": [],
   "source": [
    "random_state = np.random.RandomState(5)"
   ]
  },
  {
   "cell_type": "markdown",
   "metadata": {
    "id": "tXUM9vTGCmF1"
   },
   "source": [
    "Загружаем сформированный ранее урезанный набор Small.csv, состоящий из 100 тыс. записей, отбираемых случайным образом из полного набора данных. Проверяем, что набор загрузился полностью."
   ]
  },
  {
   "cell_type": "code",
   "execution_count": 5,
   "metadata": {
    "colab": {
     "base_uri": "https://localhost:8080/"
    },
    "id": "Ae_HidDexLUW",
    "outputId": "63420c8d-46ba-4daa-fc1b-a5b502557ced"
   },
   "outputs": [
    {
     "data": {
      "text/plain": [
       "(100000, 289)"
      ]
     },
     "execution_count": 5,
     "metadata": {},
     "output_type": "execute_result"
    }
   ],
   "source": [
    "data = np.loadtxt('Small.csv', delimiter=\",\")\n",
    "data.shape"
   ]
  },
  {
   "cell_type": "code",
   "execution_count": 6,
   "metadata": {
    "id": "RpkkJ6HpLv6R"
   },
   "outputs": [],
   "source": [
    "X = data[:, :-1]\n",
    "y = data[:, -1]"
   ]
  },
  {
   "cell_type": "markdown",
   "metadata": {
    "id": "quRaxJ00EmY1"
   },
   "source": [
    "Видим, что последний столбец - зависимая переменная, остальные столбцы - независимые переменные (параметры подписи)."
   ]
  },
  {
   "cell_type": "markdown",
   "metadata": {
    "id": "1QtPQ9IlFF8d"
   },
   "source": [
    "## Метрики качества модели"
   ]
  },
  {
   "cell_type": "code",
   "execution_count": 7,
   "metadata": {
    "id": "2BW6dPbmOGcU"
   },
   "outputs": [],
   "source": [
    "from keras import backend as K\n",
    "\n",
    "def recall_m(y_true, y_pred):\n",
    "    true_positives = K.sum(K.round(K.clip(y_true * y_pred, 0, 1)))\n",
    "    possible_positives = K.sum(K.round(K.clip(y_true, 0, 1)))\n",
    "    recall = true_positives / (possible_positives + K.epsilon())\n",
    "    return recall\n",
    "\n",
    "def precision_m(y_true, y_pred):\n",
    "    true_positives = K.sum(K.round(K.clip(y_true * y_pred, 0, 1)))\n",
    "    predicted_positives = K.sum(K.round(K.clip(y_pred, 0, 1)))\n",
    "    precision = true_positives / (predicted_positives + K.epsilon())\n",
    "    return precision\n",
    "\n",
    "def f1_m(y_true, y_pred):\n",
    "    precision = precision_m(y_true, y_pred)\n",
    "    recall = recall_m(y_true, y_pred)\n",
    "    return 2*((precision*recall)/(precision+recall+K.epsilon()))"
   ]
  },
  {
   "cell_type": "markdown",
   "metadata": {
    "id": "UqbX5YSVFk1c"
   },
   "source": [
    "## Разделение датасета"
   ]
  },
  {
   "cell_type": "markdown",
   "metadata": {
    "id": "ELGEOgQcFyBM"
   },
   "source": [
    "Разделим наш датасет на тестовую и обучающую выборки, которые соответственно будут использоваться в дальнейшем для непосредственного обучения модели и для оценки ее качества. Разделение проводим в соотношении 30% (тестовая выборка) на 70% (обучающая выборка)."
   ]
  },
  {
   "cell_type": "code",
   "execution_count": 8,
   "metadata": {
    "id": "GMZmCL_c5S8-"
   },
   "outputs": [],
   "source": [
    "X_train, X_test, y_train, y_test = train_test_split(X, y, test_size = 0.3, random_state = random_state, stratify = y)"
   ]
  },
  {
   "cell_type": "markdown",
   "metadata": {
    "id": "8eRoRzg8KZ49"
   },
   "source": [
    "## Построение классификаторов"
   ]
  },
  {
   "cell_type": "markdown",
   "metadata": {
    "id": "pCxvjHwLKYxY"
   },
   "source": [
    "В данной работе рассмотрим построение различных классификаторов в рамках анализа набора данных для решения задачи классификации на 2 класса.\n",
    "Рассматривать будем классификаторы, построенные на основе нейронной сети и на основе ансамблевых методов, так как именно эти модели выдали наилучший результат и быстродействие."
   ]
  },
  {
   "cell_type": "markdown",
   "metadata": {
    "id": "iCW-VvgFFxYL"
   },
   "source": [
    "### Классификатор на основе нейронной сети"
   ]
  },
  {
   "cell_type": "code",
   "execution_count": 9,
   "metadata": {
    "id": "CFn-kNHwEHJF"
   },
   "outputs": [],
   "source": [
    "model = Sequential()\n",
    "model.add(BatchNormalization(input_shape=(288,)))\n",
    "\n",
    "model.add(Dense(288, activation='relu'))\n",
    "model.add(BatchNormalization())\n",
    "model.add(Dropout(0.3))\n",
    "\n",
    "model.add(Dense(288, activation='relu'))\n",
    "model.add(BatchNormalization())\n",
    "model.add(Dropout(0.3))\n",
    "\n",
    "model.add(Dense(1, activation='sigmoid'))\n",
    "\n",
    "model.compile(loss='binary_crossentropy',\n",
    "              optimizer='adam',\n",
    "              metrics=[f1_m])"
   ]
  },
  {
   "cell_type": "code",
   "execution_count": 10,
   "metadata": {
    "colab": {
     "base_uri": "https://localhost:8080/"
    },
    "id": "_CyS0GPTHti0",
    "outputId": "15909cb0-e716-4e29-8035-444298acca8a"
   },
   "outputs": [
    {
     "name": "stdout",
     "output_type": "stream",
     "text": [
      "Epoch 1/200\n",
      "70/70 [==============================] - 3s 18ms/step - loss: 0.5365 - f1_m: 0.3303 - val_loss: 0.2820 - val_f1_m: 0.0000e+00\n",
      "Epoch 2/200\n",
      "70/70 [==============================] - 1s 15ms/step - loss: 0.2182 - f1_m: 0.6222 - val_loss: 0.2523 - val_f1_m: 0.0958\n",
      "Epoch 3/200\n",
      "70/70 [==============================] - 1s 15ms/step - loss: 0.1188 - f1_m: 0.7655 - val_loss: 0.1602 - val_f1_m: 0.4321\n",
      "Epoch 4/200\n",
      "70/70 [==============================] - 1s 15ms/step - loss: 0.0791 - f1_m: 0.8495 - val_loss: 0.0891 - val_f1_m: 0.7742\n",
      "Epoch 5/200\n",
      "70/70 [==============================] - 1s 15ms/step - loss: 0.0598 - f1_m: 0.8900 - val_loss: 0.0512 - val_f1_m: 0.8838\n",
      "Epoch 6/200\n",
      "70/70 [==============================] - 1s 15ms/step - loss: 0.0469 - f1_m: 0.9151 - val_loss: 0.0386 - val_f1_m: 0.9208\n",
      "Epoch 7/200\n",
      "70/70 [==============================] - 1s 15ms/step - loss: 0.0382 - f1_m: 0.9293 - val_loss: 0.0331 - val_f1_m: 0.9380\n",
      "Epoch 8/200\n",
      "70/70 [==============================] - 1s 15ms/step - loss: 0.0313 - f1_m: 0.9455 - val_loss: 0.0275 - val_f1_m: 0.9482\n",
      "Epoch 9/200\n",
      "70/70 [==============================] - 1s 15ms/step - loss: 0.0268 - f1_m: 0.9534 - val_loss: 0.0253 - val_f1_m: 0.9550\n",
      "Epoch 10/200\n",
      "70/70 [==============================] - 1s 15ms/step - loss: 0.0239 - f1_m: 0.9543 - val_loss: 0.0238 - val_f1_m: 0.9549\n",
      "Epoch 11/200\n",
      "70/70 [==============================] - 1s 15ms/step - loss: 0.0200 - f1_m: 0.9621 - val_loss: 0.0209 - val_f1_m: 0.9627\n",
      "Epoch 12/200\n",
      "70/70 [==============================] - 1s 15ms/step - loss: 0.0186 - f1_m: 0.9662 - val_loss: 0.0200 - val_f1_m: 0.9629\n",
      "Epoch 13/200\n",
      "70/70 [==============================] - 1s 15ms/step - loss: 0.0161 - f1_m: 0.9716 - val_loss: 0.0187 - val_f1_m: 0.9668\n",
      "Epoch 14/200\n",
      "70/70 [==============================] - 1s 14ms/step - loss: 0.0140 - f1_m: 0.9759 - val_loss: 0.0176 - val_f1_m: 0.9689\n",
      "Epoch 15/200\n",
      "70/70 [==============================] - 1s 14ms/step - loss: 0.0120 - f1_m: 0.9791 - val_loss: 0.0171 - val_f1_m: 0.9713\n",
      "Epoch 16/200\n",
      "70/70 [==============================] - 1s 14ms/step - loss: 0.0111 - f1_m: 0.9803 - val_loss: 0.0163 - val_f1_m: 0.9727\n",
      "Epoch 17/200\n",
      "70/70 [==============================] - 1s 15ms/step - loss: 0.0098 - f1_m: 0.9839 - val_loss: 0.0157 - val_f1_m: 0.9729\n",
      "Epoch 18/200\n",
      "70/70 [==============================] - 1s 15ms/step - loss: 0.0091 - f1_m: 0.9851 - val_loss: 0.0159 - val_f1_m: 0.9728\n",
      "Epoch 19/200\n",
      "70/70 [==============================] - 1s 15ms/step - loss: 0.0090 - f1_m: 0.9844 - val_loss: 0.0161 - val_f1_m: 0.9737\n",
      "Epoch 20/200\n",
      "70/70 [==============================] - 1s 15ms/step - loss: 0.0075 - f1_m: 0.9881 - val_loss: 0.0147 - val_f1_m: 0.9777\n",
      "Epoch 21/200\n",
      "70/70 [==============================] - 1s 16ms/step - loss: 0.0069 - f1_m: 0.9888 - val_loss: 0.0155 - val_f1_m: 0.9754\n",
      "Epoch 22/200\n",
      "70/70 [==============================] - 1s 15ms/step - loss: 0.0061 - f1_m: 0.9899 - val_loss: 0.0151 - val_f1_m: 0.9773\n",
      "Epoch 23/200\n",
      "70/70 [==============================] - 1s 16ms/step - loss: 0.0066 - f1_m: 0.9883 - val_loss: 0.0147 - val_f1_m: 0.9764\n",
      "Epoch 24/200\n",
      "70/70 [==============================] - 1s 16ms/step - loss: 0.0059 - f1_m: 0.9891 - val_loss: 0.0138 - val_f1_m: 0.9798\n",
      "Epoch 25/200\n",
      "70/70 [==============================] - 1s 16ms/step - loss: 0.0050 - f1_m: 0.9925 - val_loss: 0.0134 - val_f1_m: 0.9794\n",
      "Epoch 26/200\n",
      "70/70 [==============================] - 1s 16ms/step - loss: 0.0045 - f1_m: 0.9924 - val_loss: 0.0131 - val_f1_m: 0.9808\n",
      "Epoch 27/200\n",
      "70/70 [==============================] - 1s 16ms/step - loss: 0.0047 - f1_m: 0.9928 - val_loss: 0.0135 - val_f1_m: 0.9792\n",
      "Epoch 28/200\n",
      "70/70 [==============================] - 1s 16ms/step - loss: 0.0045 - f1_m: 0.9941 - val_loss: 0.0133 - val_f1_m: 0.9801\n",
      "Epoch 29/200\n",
      "70/70 [==============================] - 1s 17ms/step - loss: 0.0037 - f1_m: 0.9942 - val_loss: 0.0125 - val_f1_m: 0.9811\n",
      "Epoch 30/200\n",
      "70/70 [==============================] - 1s 17ms/step - loss: 0.0048 - f1_m: 0.9943 - val_loss: 0.0142 - val_f1_m: 0.9805\n",
      "Epoch 31/200\n",
      "70/70 [==============================] - 1s 17ms/step - loss: 0.0044 - f1_m: 0.9926 - val_loss: 0.0139 - val_f1_m: 0.9787\n",
      "Epoch 32/200\n",
      "70/70 [==============================] - 1s 17ms/step - loss: 0.0037 - f1_m: 0.9940 - val_loss: 0.0133 - val_f1_m: 0.9800\n",
      "Epoch 33/200\n",
      "70/70 [==============================] - 1s 16ms/step - loss: 0.0038 - f1_m: 0.9934 - val_loss: 0.0125 - val_f1_m: 0.9817\n",
      "Epoch 34/200\n",
      "70/70 [==============================] - 1s 17ms/step - loss: 0.0034 - f1_m: 0.9946 - val_loss: 0.0136 - val_f1_m: 0.9811\n",
      "Epoch 35/200\n",
      "70/70 [==============================] - 1s 17ms/step - loss: 0.0034 - f1_m: 0.9936 - val_loss: 0.0150 - val_f1_m: 0.9792\n",
      "Epoch 36/200\n",
      "70/70 [==============================] - 1s 16ms/step - loss: 0.0035 - f1_m: 0.9941 - val_loss: 0.0137 - val_f1_m: 0.9813\n",
      "Epoch 37/200\n",
      "70/70 [==============================] - 1s 15ms/step - loss: 0.0035 - f1_m: 0.9959 - val_loss: 0.0121 - val_f1_m: 0.9812\n",
      "Epoch 38/200\n",
      "70/70 [==============================] - 1s 15ms/step - loss: 0.0034 - f1_m: 0.9943 - val_loss: 0.0139 - val_f1_m: 0.9798\n",
      "Epoch 39/200\n",
      "70/70 [==============================] - 1s 16ms/step - loss: 0.0034 - f1_m: 0.9949 - val_loss: 0.0126 - val_f1_m: 0.9819\n",
      "Epoch 40/200\n",
      "70/70 [==============================] - 1s 15ms/step - loss: 0.0031 - f1_m: 0.9959 - val_loss: 0.0129 - val_f1_m: 0.9827\n",
      "Epoch 41/200\n",
      "70/70 [==============================] - 1s 16ms/step - loss: 0.0023 - f1_m: 0.9967 - val_loss: 0.0132 - val_f1_m: 0.9825\n",
      "Epoch 42/200\n",
      "70/70 [==============================] - 1s 16ms/step - loss: 0.0027 - f1_m: 0.9959 - val_loss: 0.0135 - val_f1_m: 0.9813\n",
      "Epoch 43/200\n",
      "70/70 [==============================] - 1s 15ms/step - loss: 0.0025 - f1_m: 0.9955 - val_loss: 0.0146 - val_f1_m: 0.9809\n",
      "Epoch 44/200\n",
      "70/70 [==============================] - 1s 16ms/step - loss: 0.0029 - f1_m: 0.9954 - val_loss: 0.0141 - val_f1_m: 0.9790\n",
      "Epoch 45/200\n",
      "70/70 [==============================] - 1s 17ms/step - loss: 0.0024 - f1_m: 0.9961 - val_loss: 0.0131 - val_f1_m: 0.9812\n",
      "Epoch 46/200\n",
      "70/70 [==============================] - 1s 17ms/step - loss: 0.0023 - f1_m: 0.9960 - val_loss: 0.0147 - val_f1_m: 0.9805\n",
      "Epoch 47/200\n",
      "70/70 [==============================] - 1s 18ms/step - loss: 0.0028 - f1_m: 0.9957 - val_loss: 0.0134 - val_f1_m: 0.9813\n",
      "Epoch 48/200\n",
      "70/70 [==============================] - 1s 16ms/step - loss: 0.0022 - f1_m: 0.9964 - val_loss: 0.0134 - val_f1_m: 0.9830\n",
      "Epoch 49/200\n",
      "70/70 [==============================] - 1s 16ms/step - loss: 0.0029 - f1_m: 0.9964 - val_loss: 0.0137 - val_f1_m: 0.9829\n",
      "Epoch 50/200\n",
      "70/70 [==============================] - 1s 15ms/step - loss: 0.0021 - f1_m: 0.9972 - val_loss: 0.0161 - val_f1_m: 0.9791\n",
      "Epoch 51/200\n",
      "70/70 [==============================] - 1s 16ms/step - loss: 0.0029 - f1_m: 0.9943 - val_loss: 0.0135 - val_f1_m: 0.9825\n",
      "Epoch 52/200\n",
      "70/70 [==============================] - 1s 15ms/step - loss: 0.0026 - f1_m: 0.9958 - val_loss: 0.0135 - val_f1_m: 0.9823\n",
      "Epoch 53/200\n",
      "70/70 [==============================] - 1s 15ms/step - loss: 0.0023 - f1_m: 0.9958 - val_loss: 0.0135 - val_f1_m: 0.9818\n",
      "Epoch 54/200\n",
      "70/70 [==============================] - 1s 16ms/step - loss: 0.0018 - f1_m: 0.9966 - val_loss: 0.0132 - val_f1_m: 0.9834\n",
      "Epoch 55/200\n",
      "70/70 [==============================] - 1s 16ms/step - loss: 0.0014 - f1_m: 0.9978 - val_loss: 0.0148 - val_f1_m: 0.9822\n",
      "Epoch 56/200\n",
      "70/70 [==============================] - 1s 17ms/step - loss: 0.0021 - f1_m: 0.9965 - val_loss: 0.0137 - val_f1_m: 0.9814\n",
      "Epoch 57/200\n",
      "70/70 [==============================] - 1s 16ms/step - loss: 0.0022 - f1_m: 0.9960 - val_loss: 0.0129 - val_f1_m: 0.9819\n",
      "Epoch 58/200\n",
      "70/70 [==============================] - 1s 16ms/step - loss: 0.0018 - f1_m: 0.9965 - val_loss: 0.0135 - val_f1_m: 0.9807\n",
      "Epoch 59/200\n",
      "70/70 [==============================] - 1s 15ms/step - loss: 0.0020 - f1_m: 0.9965 - val_loss: 0.0133 - val_f1_m: 0.9837\n",
      "Epoch 60/200\n",
      "70/70 [==============================] - 1s 15ms/step - loss: 0.0018 - f1_m: 0.9963 - val_loss: 0.0142 - val_f1_m: 0.9818\n",
      "Epoch 61/200\n",
      "70/70 [==============================] - 1s 15ms/step - loss: 0.0015 - f1_m: 0.9968 - val_loss: 0.0138 - val_f1_m: 0.9819\n",
      "Epoch 62/200\n",
      "70/70 [==============================] - 1s 15ms/step - loss: 0.0018 - f1_m: 0.9969 - val_loss: 0.0135 - val_f1_m: 0.9834\n",
      "Epoch 63/200\n",
      "70/70 [==============================] - 1s 15ms/step - loss: 0.0016 - f1_m: 0.9971 - val_loss: 0.0131 - val_f1_m: 0.9821\n",
      "Epoch 64/200\n",
      "70/70 [==============================] - 1s 15ms/step - loss: 0.0014 - f1_m: 0.9970 - val_loss: 0.0132 - val_f1_m: 0.9834\n",
      "Epoch 65/200\n",
      "70/70 [==============================] - 1s 15ms/step - loss: 0.0012 - f1_m: 0.9979 - val_loss: 0.0146 - val_f1_m: 0.9825\n",
      "Epoch 66/200\n",
      "70/70 [==============================] - 1s 15ms/step - loss: 0.0013 - f1_m: 0.9976 - val_loss: 0.0128 - val_f1_m: 0.9836\n",
      "Epoch 67/200\n",
      "70/70 [==============================] - 1s 15ms/step - loss: 0.0013 - f1_m: 0.9975 - val_loss: 0.0132 - val_f1_m: 0.9828\n",
      "Epoch 68/200\n",
      "70/70 [==============================] - 1s 16ms/step - loss: 0.0020 - f1_m: 0.9957 - val_loss: 0.0140 - val_f1_m: 0.9833\n",
      "Epoch 69/200\n",
      "70/70 [==============================] - 1s 16ms/step - loss: 0.0027 - f1_m: 0.9947 - val_loss: 0.0137 - val_f1_m: 0.9836\n",
      "Epoch 70/200\n",
      "70/70 [==============================] - 1s 15ms/step - loss: 0.0025 - f1_m: 0.9957 - val_loss: 0.0152 - val_f1_m: 0.9826\n",
      "Epoch 71/200\n",
      "70/70 [==============================] - 1s 16ms/step - loss: 0.0025 - f1_m: 0.9950 - val_loss: 0.0152 - val_f1_m: 0.9825\n",
      "Epoch 72/200\n",
      "70/70 [==============================] - 1s 15ms/step - loss: 0.0026 - f1_m: 0.9946 - val_loss: 0.0161 - val_f1_m: 0.9804\n",
      "Epoch 73/200\n",
      "70/70 [==============================] - 1s 15ms/step - loss: 0.0029 - f1_m: 0.9954 - val_loss: 0.0132 - val_f1_m: 0.9823\n",
      "Epoch 74/200\n",
      "70/70 [==============================] - 1s 16ms/step - loss: 0.0029 - f1_m: 0.9955 - val_loss: 0.0128 - val_f1_m: 0.9837\n",
      "Epoch 75/200\n",
      "70/70 [==============================] - 1s 16ms/step - loss: 0.0019 - f1_m: 0.9972 - val_loss: 0.0127 - val_f1_m: 0.9838\n",
      "Epoch 76/200\n",
      "70/70 [==============================] - 1s 16ms/step - loss: 0.0015 - f1_m: 0.9974 - val_loss: 0.0118 - val_f1_m: 0.9847\n",
      "Epoch 77/200\n",
      "70/70 [==============================] - 1s 15ms/step - loss: 0.0015 - f1_m: 0.9970 - val_loss: 0.0134 - val_f1_m: 0.9849\n",
      "Epoch 78/200\n",
      "70/70 [==============================] - 1s 15ms/step - loss: 0.0014 - f1_m: 0.9973 - val_loss: 0.0130 - val_f1_m: 0.9846\n",
      "Epoch 79/200\n",
      "70/70 [==============================] - 1s 15ms/step - loss: 0.0013 - f1_m: 0.9974 - val_loss: 0.0136 - val_f1_m: 0.9842\n",
      "Epoch 80/200\n",
      "70/70 [==============================] - 1s 15ms/step - loss: 0.0017 - f1_m: 0.9977 - val_loss: 0.0139 - val_f1_m: 0.9842\n",
      "Epoch 81/200\n",
      "70/70 [==============================] - 1s 15ms/step - loss: 0.0018 - f1_m: 0.9976 - val_loss: 0.0144 - val_f1_m: 0.9852\n",
      "Epoch 82/200\n",
      "70/70 [==============================] - 1s 15ms/step - loss: 0.0012 - f1_m: 0.9978 - val_loss: 0.0140 - val_f1_m: 0.9850\n",
      "Epoch 83/200\n",
      "70/70 [==============================] - 1s 15ms/step - loss: 0.0021 - f1_m: 0.9974 - val_loss: 0.0133 - val_f1_m: 0.9843\n",
      "Epoch 84/200\n",
      "70/70 [==============================] - 1s 15ms/step - loss: 0.0016 - f1_m: 0.9971 - val_loss: 0.0129 - val_f1_m: 0.9848\n",
      "Epoch 85/200\n",
      "70/70 [==============================] - 1s 15ms/step - loss: 0.0015 - f1_m: 0.9971 - val_loss: 0.0133 - val_f1_m: 0.9843\n",
      "Epoch 86/200\n",
      "70/70 [==============================] - 1s 15ms/step - loss: 7.9864e-04 - f1_m: 0.9983 - val_loss: 0.0124 - val_f1_m: 0.9852\n",
      "Epoch 87/200\n",
      "70/70 [==============================] - 1s 15ms/step - loss: 0.0012 - f1_m: 0.9973 - val_loss: 0.0128 - val_f1_m: 0.9851\n",
      "Epoch 88/200\n",
      "70/70 [==============================] - 1s 15ms/step - loss: 0.0015 - f1_m: 0.9972 - val_loss: 0.0123 - val_f1_m: 0.9857\n",
      "Epoch 89/200\n",
      "70/70 [==============================] - 1s 15ms/step - loss: 0.0014 - f1_m: 0.9974 - val_loss: 0.0120 - val_f1_m: 0.9854\n",
      "Epoch 90/200\n",
      "70/70 [==============================] - 1s 15ms/step - loss: 0.0014 - f1_m: 0.9971 - val_loss: 0.0136 - val_f1_m: 0.9839\n",
      "Epoch 91/200\n",
      "70/70 [==============================] - 1s 15ms/step - loss: 0.0013 - f1_m: 0.9983 - val_loss: 0.0122 - val_f1_m: 0.9859\n",
      "Epoch 92/200\n",
      "70/70 [==============================] - 1s 15ms/step - loss: 0.0016 - f1_m: 0.9974 - val_loss: 0.0131 - val_f1_m: 0.9843\n",
      "Epoch 93/200\n",
      "70/70 [==============================] - 1s 16ms/step - loss: 9.4539e-04 - f1_m: 0.9980 - val_loss: 0.0145 - val_f1_m: 0.9842\n",
      "Epoch 94/200\n",
      "70/70 [==============================] - 1s 15ms/step - loss: 9.2689e-04 - f1_m: 0.9983 - val_loss: 0.0149 - val_f1_m: 0.9828\n",
      "Epoch 95/200\n",
      "70/70 [==============================] - 1s 15ms/step - loss: 0.0011 - f1_m: 0.9980 - val_loss: 0.0129 - val_f1_m: 0.9847\n",
      "Epoch 96/200\n",
      "70/70 [==============================] - 1s 15ms/step - loss: 0.0016 - f1_m: 0.9971 - val_loss: 0.0165 - val_f1_m: 0.9825\n",
      "Epoch 97/200\n",
      "70/70 [==============================] - 1s 16ms/step - loss: 0.0016 - f1_m: 0.9966 - val_loss: 0.0121 - val_f1_m: 0.9840\n",
      "Epoch 98/200\n",
      "70/70 [==============================] - 1s 16ms/step - loss: 0.0011 - f1_m: 0.9981 - val_loss: 0.0136 - val_f1_m: 0.9849\n",
      "Epoch 99/200\n",
      "70/70 [==============================] - 1s 16ms/step - loss: 0.0012 - f1_m: 0.9983 - val_loss: 0.0126 - val_f1_m: 0.9860\n",
      "Epoch 100/200\n",
      "70/70 [==============================] - 1s 16ms/step - loss: 0.0012 - f1_m: 0.9978 - val_loss: 0.0132 - val_f1_m: 0.9845\n",
      "Epoch 101/200\n",
      "70/70 [==============================] - 1s 15ms/step - loss: 9.8147e-04 - f1_m: 0.9985 - val_loss: 0.0144 - val_f1_m: 0.9854\n",
      "Epoch 102/200\n",
      "70/70 [==============================] - 1s 15ms/step - loss: 0.0012 - f1_m: 0.9980 - val_loss: 0.0131 - val_f1_m: 0.9844\n",
      "Epoch 103/200\n",
      "70/70 [==============================] - 1s 16ms/step - loss: 0.0011 - f1_m: 0.9980 - val_loss: 0.0140 - val_f1_m: 0.9850\n",
      "Epoch 104/200\n",
      "70/70 [==============================] - 1s 15ms/step - loss: 0.0010 - f1_m: 0.9979 - val_loss: 0.0151 - val_f1_m: 0.9853\n",
      "Epoch 105/200\n",
      "70/70 [==============================] - 1s 15ms/step - loss: 0.0014 - f1_m: 0.9971 - val_loss: 0.0141 - val_f1_m: 0.9866\n",
      "Epoch 106/200\n",
      "70/70 [==============================] - 1s 15ms/step - loss: 9.7069e-04 - f1_m: 0.9983 - val_loss: 0.0124 - val_f1_m: 0.9851\n",
      "Epoch 107/200\n",
      "70/70 [==============================] - 1s 15ms/step - loss: 0.0013 - f1_m: 0.9976 - val_loss: 0.0126 - val_f1_m: 0.9855\n",
      "Epoch 108/200\n",
      "70/70 [==============================] - 1s 15ms/step - loss: 0.0012 - f1_m: 0.9978 - val_loss: 0.0123 - val_f1_m: 0.9871\n",
      "Epoch 109/200\n",
      "70/70 [==============================] - 1s 15ms/step - loss: 0.0011 - f1_m: 0.9979 - val_loss: 0.0125 - val_f1_m: 0.9877\n",
      "Epoch 110/200\n",
      "70/70 [==============================] - 1s 15ms/step - loss: 8.7894e-04 - f1_m: 0.9982 - val_loss: 0.0126 - val_f1_m: 0.9869\n",
      "Epoch 111/200\n",
      "70/70 [==============================] - 1s 15ms/step - loss: 0.0016 - f1_m: 0.9970 - val_loss: 0.0123 - val_f1_m: 0.9870\n",
      "Epoch 112/200\n",
      "70/70 [==============================] - 1s 15ms/step - loss: 0.0013 - f1_m: 0.9973 - val_loss: 0.0133 - val_f1_m: 0.9852\n",
      "Epoch 113/200\n",
      "70/70 [==============================] - 1s 15ms/step - loss: 9.5593e-04 - f1_m: 0.9982 - val_loss: 0.0116 - val_f1_m: 0.9858\n",
      "Epoch 114/200\n",
      "70/70 [==============================] - 1s 15ms/step - loss: 0.0013 - f1_m: 0.9977 - val_loss: 0.0130 - val_f1_m: 0.9865\n",
      "Epoch 115/200\n",
      "70/70 [==============================] - 1s 15ms/step - loss: 0.0013 - f1_m: 0.9978 - val_loss: 0.0153 - val_f1_m: 0.9827\n",
      "Epoch 116/200\n",
      "70/70 [==============================] - 1s 15ms/step - loss: 9.3422e-04 - f1_m: 0.9983 - val_loss: 0.0143 - val_f1_m: 0.9835\n",
      "Epoch 117/200\n",
      "70/70 [==============================] - 1s 16ms/step - loss: 0.0016 - f1_m: 0.9979 - val_loss: 0.0129 - val_f1_m: 0.9856\n",
      "Epoch 118/200\n",
      "70/70 [==============================] - 1s 15ms/step - loss: 0.0014 - f1_m: 0.9975 - val_loss: 0.0127 - val_f1_m: 0.9864\n",
      "Epoch 119/200\n",
      "70/70 [==============================] - 1s 16ms/step - loss: 0.0019 - f1_m: 0.9967 - val_loss: 0.0136 - val_f1_m: 0.9838\n",
      "Epoch 120/200\n",
      "70/70 [==============================] - 1s 15ms/step - loss: 0.0012 - f1_m: 0.9977 - val_loss: 0.0131 - val_f1_m: 0.9848\n",
      "Epoch 121/200\n",
      "70/70 [==============================] - 1s 16ms/step - loss: 8.0196e-04 - f1_m: 0.9987 - val_loss: 0.0115 - val_f1_m: 0.9880\n",
      "Epoch 122/200\n",
      "70/70 [==============================] - 1s 15ms/step - loss: 0.0012 - f1_m: 0.9975 - val_loss: 0.0150 - val_f1_m: 0.9849\n",
      "Epoch 123/200\n",
      "70/70 [==============================] - 1s 15ms/step - loss: 0.0011 - f1_m: 0.9983 - val_loss: 0.0113 - val_f1_m: 0.9870\n",
      "Epoch 124/200\n",
      "70/70 [==============================] - 1s 15ms/step - loss: 6.5132e-04 - f1_m: 0.9986 - val_loss: 0.0118 - val_f1_m: 0.9868\n",
      "Epoch 125/200\n",
      "70/70 [==============================] - 1s 15ms/step - loss: 6.1445e-04 - f1_m: 0.9991 - val_loss: 0.0128 - val_f1_m: 0.9874\n",
      "Epoch 126/200\n",
      "70/70 [==============================] - 1s 15ms/step - loss: 0.0012 - f1_m: 0.9981 - val_loss: 0.0145 - val_f1_m: 0.9844\n",
      "Epoch 127/200\n",
      "70/70 [==============================] - 1s 15ms/step - loss: 7.7877e-04 - f1_m: 0.9986 - val_loss: 0.0133 - val_f1_m: 0.9858\n",
      "Epoch 128/200\n",
      "70/70 [==============================] - 1s 15ms/step - loss: 0.0011 - f1_m: 0.9979 - val_loss: 0.0139 - val_f1_m: 0.9861\n",
      "Epoch 129/200\n",
      "70/70 [==============================] - 1s 15ms/step - loss: 0.0010 - f1_m: 0.9979 - val_loss: 0.0144 - val_f1_m: 0.9859\n",
      "Epoch 130/200\n",
      "70/70 [==============================] - 1s 15ms/step - loss: 8.6242e-04 - f1_m: 0.9985 - val_loss: 0.0128 - val_f1_m: 0.9864\n",
      "Epoch 131/200\n",
      "70/70 [==============================] - 1s 15ms/step - loss: 6.7114e-04 - f1_m: 0.9992 - val_loss: 0.0137 - val_f1_m: 0.9858\n",
      "Epoch 132/200\n",
      "70/70 [==============================] - 1s 16ms/step - loss: 6.5415e-04 - f1_m: 0.9986 - val_loss: 0.0136 - val_f1_m: 0.9864\n",
      "Epoch 133/200\n",
      "70/70 [==============================] - 1s 16ms/step - loss: 6.7734e-04 - f1_m: 0.9985 - val_loss: 0.0138 - val_f1_m: 0.9864\n",
      "Epoch 134/200\n",
      "70/70 [==============================] - 1s 16ms/step - loss: 9.1580e-04 - f1_m: 0.9983 - val_loss: 0.0131 - val_f1_m: 0.9871\n",
      "Epoch 135/200\n",
      "70/70 [==============================] - 1s 15ms/step - loss: 7.9578e-04 - f1_m: 0.9985 - val_loss: 0.0128 - val_f1_m: 0.9861\n",
      "Epoch 136/200\n",
      "70/70 [==============================] - 1s 16ms/step - loss: 9.8847e-04 - f1_m: 0.9980 - val_loss: 0.0132 - val_f1_m: 0.9878\n",
      "Epoch 137/200\n",
      "70/70 [==============================] - 1s 16ms/step - loss: 7.2208e-04 - f1_m: 0.9986 - val_loss: 0.0131 - val_f1_m: 0.9873\n",
      "Epoch 138/200\n",
      "70/70 [==============================] - 1s 17ms/step - loss: 8.7275e-04 - f1_m: 0.9978 - val_loss: 0.0128 - val_f1_m: 0.9871\n",
      "Epoch 139/200\n",
      "70/70 [==============================] - 1s 18ms/step - loss: 0.0012 - f1_m: 0.9981 - val_loss: 0.0142 - val_f1_m: 0.9859\n",
      "Epoch 140/200\n",
      "70/70 [==============================] - 1s 15ms/step - loss: 0.0012 - f1_m: 0.9979 - val_loss: 0.0120 - val_f1_m: 0.9865\n",
      "Epoch 141/200\n",
      "70/70 [==============================] - 1s 16ms/step - loss: 0.0011 - f1_m: 0.9980 - val_loss: 0.0141 - val_f1_m: 0.9864\n",
      "Epoch 142/200\n",
      "70/70 [==============================] - 1s 17ms/step - loss: 0.0013 - f1_m: 0.9973 - val_loss: 0.0132 - val_f1_m: 0.9871\n",
      "Epoch 143/200\n",
      "70/70 [==============================] - 1s 18ms/step - loss: 0.0012 - f1_m: 0.9978 - val_loss: 0.0133 - val_f1_m: 0.9870\n",
      "Epoch 144/200\n",
      "70/70 [==============================] - 1s 17ms/step - loss: 0.0013 - f1_m: 0.9982 - val_loss: 0.0131 - val_f1_m: 0.9869\n",
      "Epoch 145/200\n",
      "70/70 [==============================] - 1s 16ms/step - loss: 0.0012 - f1_m: 0.9976 - val_loss: 0.0125 - val_f1_m: 0.9887\n",
      "Epoch 146/200\n",
      "70/70 [==============================] - 1s 16ms/step - loss: 9.8075e-04 - f1_m: 0.9986 - val_loss: 0.0117 - val_f1_m: 0.9877\n",
      "Epoch 147/200\n",
      "70/70 [==============================] - 1s 16ms/step - loss: 8.1289e-04 - f1_m: 0.9989 - val_loss: 0.0112 - val_f1_m: 0.9888\n",
      "Epoch 148/200\n",
      "70/70 [==============================] - 1s 16ms/step - loss: 8.8656e-04 - f1_m: 0.9986 - val_loss: 0.0125 - val_f1_m: 0.9877\n",
      "Epoch 149/200\n",
      "70/70 [==============================] - 1s 15ms/step - loss: 9.6914e-04 - f1_m: 0.9988 - val_loss: 0.0135 - val_f1_m: 0.9880\n",
      "Epoch 150/200\n",
      "70/70 [==============================] - 1s 16ms/step - loss: 6.7440e-04 - f1_m: 0.9986 - val_loss: 0.0131 - val_f1_m: 0.9872\n",
      "Epoch 151/200\n",
      "70/70 [==============================] - 1s 16ms/step - loss: 8.3769e-04 - f1_m: 0.9987 - val_loss: 0.0122 - val_f1_m: 0.9866\n",
      "Epoch 152/200\n",
      "70/70 [==============================] - 1s 16ms/step - loss: 0.0012 - f1_m: 0.9976 - val_loss: 0.0137 - val_f1_m: 0.9866\n",
      "Epoch 153/200\n",
      "70/70 [==============================] - 1s 15ms/step - loss: 0.0012 - f1_m: 0.9984 - val_loss: 0.0130 - val_f1_m: 0.9869\n",
      "Epoch 154/200\n",
      "70/70 [==============================] - 1s 16ms/step - loss: 9.1698e-04 - f1_m: 0.9976 - val_loss: 0.0128 - val_f1_m: 0.9872\n",
      "Epoch 155/200\n",
      "70/70 [==============================] - 1s 16ms/step - loss: 8.9768e-04 - f1_m: 0.9978 - val_loss: 0.0137 - val_f1_m: 0.9873\n",
      "Epoch 156/200\n",
      "70/70 [==============================] - 1s 16ms/step - loss: 5.9870e-04 - f1_m: 0.9990 - val_loss: 0.0125 - val_f1_m: 0.9872\n",
      "Epoch 157/200\n",
      "70/70 [==============================] - 1s 16ms/step - loss: 5.4281e-04 - f1_m: 0.9993 - val_loss: 0.0126 - val_f1_m: 0.9881\n",
      "Epoch 158/200\n",
      "70/70 [==============================] - 1s 17ms/step - loss: 5.3198e-04 - f1_m: 0.9989 - val_loss: 0.0137 - val_f1_m: 0.9879\n",
      "Epoch 159/200\n",
      "70/70 [==============================] - 1s 15ms/step - loss: 6.0880e-04 - f1_m: 0.9987 - val_loss: 0.0137 - val_f1_m: 0.9881\n",
      "Epoch 160/200\n",
      "70/70 [==============================] - 1s 16ms/step - loss: 4.2982e-04 - f1_m: 0.9991 - val_loss: 0.0123 - val_f1_m: 0.9885\n",
      "Epoch 161/200\n",
      "70/70 [==============================] - 1s 15ms/step - loss: 4.6349e-04 - f1_m: 0.9987 - val_loss: 0.0129 - val_f1_m: 0.9881\n",
      "Epoch 162/200\n",
      "70/70 [==============================] - 1s 16ms/step - loss: 6.1748e-04 - f1_m: 0.9988 - val_loss: 0.0141 - val_f1_m: 0.9872\n",
      "Epoch 163/200\n",
      "70/70 [==============================] - 1s 15ms/step - loss: 6.8474e-04 - f1_m: 0.9988 - val_loss: 0.0132 - val_f1_m: 0.9877\n",
      "Epoch 164/200\n",
      "70/70 [==============================] - 1s 16ms/step - loss: 7.8353e-04 - f1_m: 0.9985 - val_loss: 0.0138 - val_f1_m: 0.9856\n",
      "Epoch 165/200\n",
      "70/70 [==============================] - 1s 16ms/step - loss: 6.5144e-04 - f1_m: 0.9988 - val_loss: 0.0130 - val_f1_m: 0.9896\n",
      "Epoch 166/200\n",
      "70/70 [==============================] - 1s 17ms/step - loss: 6.2666e-04 - f1_m: 0.9991 - val_loss: 0.0137 - val_f1_m: 0.9879\n",
      "Epoch 167/200\n",
      "70/70 [==============================] - 1s 15ms/step - loss: 3.6603e-04 - f1_m: 0.9997 - val_loss: 0.0135 - val_f1_m: 0.9875\n",
      "Epoch 168/200\n",
      "70/70 [==============================] - 1s 17ms/step - loss: 4.1880e-04 - f1_m: 0.9992 - val_loss: 0.0131 - val_f1_m: 0.9880\n",
      "Epoch 169/200\n",
      "70/70 [==============================] - 1s 15ms/step - loss: 3.9066e-04 - f1_m: 0.9995 - val_loss: 0.0130 - val_f1_m: 0.9898\n",
      "Epoch 170/200\n",
      "70/70 [==============================] - 1s 15ms/step - loss: 4.5937e-04 - f1_m: 0.9992 - val_loss: 0.0149 - val_f1_m: 0.9876\n",
      "Epoch 171/200\n",
      "70/70 [==============================] - 1s 16ms/step - loss: 4.6016e-04 - f1_m: 0.9990 - val_loss: 0.0137 - val_f1_m: 0.9878\n",
      "Epoch 172/200\n",
      "70/70 [==============================] - 1s 15ms/step - loss: 0.0011 - f1_m: 0.9982 - val_loss: 0.0156 - val_f1_m: 0.9832\n",
      "Epoch 173/200\n",
      "70/70 [==============================] - 1s 15ms/step - loss: 9.4507e-04 - f1_m: 0.9983 - val_loss: 0.0145 - val_f1_m: 0.9870\n",
      "Epoch 174/200\n",
      "70/70 [==============================] - 1s 15ms/step - loss: 7.5268e-04 - f1_m: 0.9984 - val_loss: 0.0159 - val_f1_m: 0.9864\n",
      "Epoch 175/200\n",
      "70/70 [==============================] - 1s 17ms/step - loss: 4.3271e-04 - f1_m: 0.9990 - val_loss: 0.0152 - val_f1_m: 0.9862\n",
      "Epoch 176/200\n",
      "70/70 [==============================] - 1s 14ms/step - loss: 6.9625e-04 - f1_m: 0.9987 - val_loss: 0.0150 - val_f1_m: 0.9874\n",
      "Epoch 177/200\n",
      "70/70 [==============================] - 1s 15ms/step - loss: 9.7686e-04 - f1_m: 0.9981 - val_loss: 0.0138 - val_f1_m: 0.9868\n",
      "Epoch 178/200\n",
      "70/70 [==============================] - 1s 14ms/step - loss: 0.0010 - f1_m: 0.9982 - val_loss: 0.0134 - val_f1_m: 0.9885\n",
      "Epoch 179/200\n",
      "70/70 [==============================] - 1s 15ms/step - loss: 7.2574e-04 - f1_m: 0.9986 - val_loss: 0.0123 - val_f1_m: 0.9876\n",
      "Epoch 180/200\n",
      "70/70 [==============================] - 1s 15ms/step - loss: 6.5935e-04 - f1_m: 0.9987 - val_loss: 0.0133 - val_f1_m: 0.9880\n",
      "Epoch 181/200\n",
      "70/70 [==============================] - 1s 15ms/step - loss: 8.1829e-04 - f1_m: 0.9986 - val_loss: 0.0147 - val_f1_m: 0.9878\n",
      "Epoch 182/200\n",
      "70/70 [==============================] - 1s 14ms/step - loss: 8.7126e-04 - f1_m: 0.9982 - val_loss: 0.0140 - val_f1_m: 0.9870\n",
      "Epoch 183/200\n",
      "70/70 [==============================] - 1s 15ms/step - loss: 7.9624e-04 - f1_m: 0.9983 - val_loss: 0.0127 - val_f1_m: 0.9885\n",
      "Epoch 184/200\n",
      "70/70 [==============================] - 1s 14ms/step - loss: 7.0516e-04 - f1_m: 0.9987 - val_loss: 0.0129 - val_f1_m: 0.9892\n",
      "Epoch 185/200\n",
      "70/70 [==============================] - 1s 15ms/step - loss: 7.2594e-04 - f1_m: 0.9984 - val_loss: 0.0132 - val_f1_m: 0.9873\n",
      "Epoch 186/200\n",
      "70/70 [==============================] - 1s 14ms/step - loss: 6.4622e-04 - f1_m: 0.9984 - val_loss: 0.0126 - val_f1_m: 0.9869\n",
      "Epoch 187/200\n",
      "70/70 [==============================] - 1s 15ms/step - loss: 6.8904e-04 - f1_m: 0.9987 - val_loss: 0.0122 - val_f1_m: 0.9875\n",
      "Epoch 188/200\n",
      "70/70 [==============================] - 1s 15ms/step - loss: 7.5698e-04 - f1_m: 0.9984 - val_loss: 0.0149 - val_f1_m: 0.9886\n",
      "Epoch 189/200\n",
      "70/70 [==============================] - 1s 15ms/step - loss: 6.3317e-04 - f1_m: 0.9988 - val_loss: 0.0139 - val_f1_m: 0.9873\n",
      "Epoch 190/200\n",
      "70/70 [==============================] - 1s 15ms/step - loss: 8.8002e-04 - f1_m: 0.9983 - val_loss: 0.0137 - val_f1_m: 0.9871\n",
      "Epoch 191/200\n",
      "70/70 [==============================] - 1s 15ms/step - loss: 7.1528e-04 - f1_m: 0.9988 - val_loss: 0.0137 - val_f1_m: 0.9884\n",
      "Epoch 192/200\n",
      "70/70 [==============================] - 1s 15ms/step - loss: 7.9238e-04 - f1_m: 0.9984 - val_loss: 0.0143 - val_f1_m: 0.9885\n",
      "Epoch 193/200\n",
      "70/70 [==============================] - 1s 15ms/step - loss: 6.7615e-04 - f1_m: 0.9985 - val_loss: 0.0136 - val_f1_m: 0.9876\n",
      "Epoch 194/200\n",
      "70/70 [==============================] - 1s 15ms/step - loss: 6.4051e-04 - f1_m: 0.9991 - val_loss: 0.0140 - val_f1_m: 0.9871\n",
      "Epoch 195/200\n",
      "70/70 [==============================] - 1s 14ms/step - loss: 5.1310e-04 - f1_m: 0.9989 - val_loss: 0.0150 - val_f1_m: 0.9872\n",
      "Epoch 196/200\n",
      "70/70 [==============================] - 1s 15ms/step - loss: 9.5903e-04 - f1_m: 0.9978 - val_loss: 0.0148 - val_f1_m: 0.9856\n",
      "Epoch 197/200\n",
      "70/70 [==============================] - 1s 15ms/step - loss: 5.8542e-04 - f1_m: 0.9989 - val_loss: 0.0141 - val_f1_m: 0.9878\n",
      "Epoch 198/200\n",
      "70/70 [==============================] - 1s 15ms/step - loss: 4.9036e-04 - f1_m: 0.9988 - val_loss: 0.0141 - val_f1_m: 0.9875\n",
      "Epoch 199/200\n",
      "70/70 [==============================] - 1s 15ms/step - loss: 4.1599e-04 - f1_m: 0.9995 - val_loss: 0.0127 - val_f1_m: 0.9886\n",
      "Epoch 200/200\n",
      "70/70 [==============================] - 1s 15ms/step - loss: 4.2698e-04 - f1_m: 0.9994 - val_loss: 0.0141 - val_f1_m: 0.9865\n"
     ]
    }
   ],
   "source": [
    "results = model.fit(X_train,y_train,validation_data = (X_test,y_test),batch_size = 1000,epochs=200)"
   ]
  },
  {
   "cell_type": "code",
   "execution_count": 11,
   "metadata": {
    "id": "CuLRIAriW6o6"
   },
   "outputs": [
    {
     "data": {
      "text/plain": [
       "0.987"
      ]
     },
     "execution_count": 11,
     "metadata": {},
     "output_type": "execute_result"
    }
   ],
   "source": [
    "f1_nn = results.history['val_f1_m'][-1]\n",
    "np.round(f1_nn, 3)"
   ]
  },
  {
   "cell_type": "markdown",
   "metadata": {
    "id": "i6lM1FuzYcnU"
   },
   "source": [
    "Рассмотрим наглядно архитектуру данной нейронной сети:"
   ]
  },
  {
   "cell_type": "code",
   "execution_count": 12,
   "metadata": {
    "id": "bAX8ptriUdbe"
   },
   "outputs": [
    {
     "data": {
      "image/png": "[encoded data removed]",
      "text/plain": [
       "<IPython.core.display.Image object>"
      ]
     },
     "execution_count": 12,
     "metadata": {},
     "output_type": "execute_result"
    }
   ],
   "source": [
    "#требует установки graphviz на локальную машину\n",
    "tf.keras.utils.plot_model(model, show_shapes = True, show_layer_activations = True)"
   ]
  },
  {
   "cell_type": "markdown",
   "metadata": {
    "id": "dHnXbVscZjkj"
   },
   "source": [
    "Отрисуем показатели точности и потерь построенной нейронной сети:"
   ]
  },
  {
   "cell_type": "code",
   "execution_count": 13,
   "metadata": {
    "id": "gXpBTfVYA58-"
   },
   "outputs": [],
   "source": [
    "def display_f1_m():\n",
    "    plt.plot(results.history['f1_m'])\n",
    "    plt.plot(results.history['val_f1_m'])\n",
    "\n",
    "    plt.title('Model accuracy')\n",
    "    plt.ylabel('Accuracy')\n",
    "    plt.xlabel('Epoch')\n",
    "    plt.legend(['Train', 'Test'], loc='upper left')\n",
    "    plt.show()\n",
    "\n",
    "def display_loss():\n",
    "    plt.plot(results.history['loss'])\n",
    "    plt.plot(results.history['val_loss'])\n",
    "\n",
    "    plt.title('Model loss')\n",
    "    plt.ylabel('Loss')\n",
    "    plt.xlabel('Epoch')\n",
    "    plt.legend(['Train', 'Test'], loc='upper left')\n",
    "    plt.show()"
   ]
  },
  {
   "cell_type": "code",
   "execution_count": 14,
   "metadata": {
    "id": "WKICTSz78tQm"
   },
   "outputs": [
    {
     "data": {
      "image/png": "[encoded data removed]",
      "text/plain": [
       "<Figure size 720x360 with 1 Axes>"
      ]
     },
     "metadata": {
      "needs_background": "light"
     },
     "output_type": "display_data"
    },
    {
     "data": {
      "image/png": "[encoded data removed]",
      "text/plain": [
       "<Figure size 720x360 with 1 Axes>"
      ]
     },
     "metadata": {
      "needs_background": "light"
     },
     "output_type": "display_data"
    }
   ],
   "source": [
    "display_f1_m()\n",
    "display_loss()"
   ]
  },
  {
   "cell_type": "markdown",
   "metadata": {
    "id": "W_P-JjfGXEGX"
   },
   "source": [
    "Построенный классификатор достаточно хорошо выполняет поставленную задачу, значение F-меры = 0.987."
   ]
  },
  {
   "cell_type": "markdown",
   "metadata": {
    "id": "E1jX9v08WkCJ"
   },
   "source": [
    "### Классификатор на основе Gradient Tree Boosting (градиентый бустинг)"
   ]
  },
  {
   "cell_type": "markdown",
   "metadata": {
    "id": "MQgAXwT0gFR5"
   },
   "source": [
    "Оптимальные параметры для данного классификатора были получены с помощью платформы для анализа данных RapidMiner. Автомоделирование методом Gradient Tree Boosting на нашем наборе данных показало наилучший результат (значение F-меры 98.2%) при следующих параметрах:\n",
    "*  количество деревьев - 150;\n",
    "*  максимальная глубина - 7;\n",
    "*  скорость обучения - 0.1."
   ]
  },
  {
   "cell_type": "code",
   "execution_count": 15,
   "metadata": {
    "id": "w8WxBN7aIM4b"
   },
   "outputs": [
    {
     "data": {
      "text/plain": [
       "0.9328222216470101"
      ]
     },
     "execution_count": 15,
     "metadata": {},
     "output_type": "execute_result"
    }
   ],
   "source": [
    "from sklearn.ensemble import GradientBoostingClassifier\n",
    "\n",
    "model_gb = GradientBoostingClassifier(random_state = random_state, learning_rate = 0.1, n_estimators = 150, max_depth = 7)\n",
    "model_gb.fit(X_train, y_train)\n",
    "f1_gb = f1_m(y_test, np.round(model_gb.predict_proba(X_test)[:, 1]))\n",
    "f1_gb.numpy()"
   ]
  },
  {
   "cell_type": "code",
   "execution_count": 30,
   "metadata": {},
   "outputs": [
    {
     "name": "stdout",
     "output_type": "stream",
     "text": [
      "              precision    recall  f1-score   support\n",
      "\n",
      "         0.0       0.99      1.00      0.99     27386\n",
      "         1.0       0.99      0.88      0.93      2614\n",
      "\n",
      "    accuracy                           0.99     30000\n",
      "   macro avg       0.99      0.94      0.96     30000\n",
      "weighted avg       0.99      0.99      0.99     30000\n",
      "\n"
     ]
    }
   ],
   "source": [
    "predictions_gb = model_gb.predict(X_test)\n",
    "print (classification_report(y_test, predictions_gb))"
   ]
  },
  {
   "cell_type": "markdown",
   "metadata": {
    "id": "Iek6HKRbWqDm"
   },
   "source": [
    "Построенный классификатор также хорошо выполняет поставленную задачу, значение F-меры = 0.933."
   ]
  },
  {
   "cell_type": "markdown",
   "metadata": {
    "id": "riVEy-MzWgt1"
   },
   "source": [
    "### Классификатор на основе Adaptive Boosting (адаптивный бустинг)"
   ]
  },
  {
   "cell_type": "code",
   "execution_count": 17,
   "metadata": {
    "id": "ch-mxCSqyck0"
   },
   "outputs": [
    {
     "name": "stdout",
     "output_type": "stream",
     "text": [
      "Best params {'n_estimators': 200, 'base_estimator__max_depth': 5}\n",
      "Best score 0.8643370588592768\n"
     ]
    }
   ],
   "source": [
    "from sklearn.ensemble import AdaBoostClassifier\n",
    "from sklearn.tree import DecisionTreeClassifier\n",
    "from sklearn.model_selection import RandomizedSearchCV, StratifiedKFold\n",
    "\n",
    "parameters = {'base_estimator__max_depth':[5,6,7,8],\n",
    "              'n_estimators':[150,200,250,300]\n",
    "              }\n",
    "\n",
    "adc = AdaBoostClassifier(base_estimator=DecisionTreeClassifier())\n",
    "\n",
    "model_ad = RandomizedSearchCV(adc, parameters,n_iter=5, cv=StratifiedKFold(n_splits=3, shuffle=True, random_state=random_state), random_state=random_state, scoring='f1',n_jobs=-1)\n",
    "model_ad.fit(X_train,y_train)\n",
    "\n",
    "print('Best params', model_ad.best_params_)\n",
    "print('Best score', model_ad.best_score_)"
   ]
  },
  {
   "cell_type": "code",
   "execution_count": 18,
   "metadata": {
    "colab": {
     "base_uri": "https://localhost:8080/"
    },
    "id": "RO10CYnXnP3t",
    "outputId": "e1eb7984-373e-49ca-880a-ef47f9afda12"
   },
   "outputs": [
    {
     "data": {
      "text/plain": [
       "0.907110513330275"
      ]
     },
     "execution_count": 18,
     "metadata": {},
     "output_type": "execute_result"
    }
   ],
   "source": [
    "f1_ad = f1_m(y_test, np.round(model_ad.predict_proba(X_test)[:, 1]))\n",
    "f1_ad.numpy()"
   ]
  },
  {
   "cell_type": "code",
   "execution_count": 31,
   "metadata": {},
   "outputs": [
    {
     "name": "stdout",
     "output_type": "stream",
     "text": [
      "              precision    recall  f1-score   support\n",
      "\n",
      "         0.0       0.99      1.00      0.99     27386\n",
      "         1.0       0.98      0.84      0.91      2614\n",
      "\n",
      "    accuracy                           0.98     30000\n",
      "   macro avg       0.98      0.92      0.95     30000\n",
      "weighted avg       0.98      0.98      0.98     30000\n",
      "\n"
     ]
    }
   ],
   "source": [
    "predictions_ad = model_ad.predict(X_test)\n",
    "print (classification_report(y_test, predictions_ad))"
   ]
  },
  {
   "cell_type": "markdown",
   "metadata": {},
   "source": [
    "С помощью рандомизированного поиска были подобраны следующие параметры для модели адаптивного бустинга, при которых значение F-меры получилось равным 0.907:\n",
    "*  количество деревьев - 200;\n",
    "*  максимальная глубина - 5.\n",
    "\n",
    "Классификатор дает неплохой результат, что подтверждается значением F-меры и матрицей неточности, однако возможно будет достигнут лучший результат при применении поиска по сетке, который требует значительно больших вычислительных ресурсов и затрат времени (особенно при расширении пространства параметров, в том числе использование другого базового алгоритма вместо деревьев решений)."
   ]
  },
  {
   "cell_type": "markdown",
   "metadata": {
    "id": "0A1mXn7TWv_S"
   },
   "source": [
    "## Итоговая оценка"
   ]
  },
  {
   "cell_type": "code",
   "execution_count": 28,
   "metadata": {
    "colab": {
     "base_uri": "https://localhost:8080/"
    },
    "id": "YHOw2O58WxqA",
    "outputId": "df9f5269-c976-42b8-ff29-799a48b6fe15"
   },
   "outputs": [
    {
     "name": "stdout",
     "output_type": "stream",
     "text": [
      "0.9865158200263977 0.9328222216470101 0.907110513330275\n",
      "Средняя f1 мера составляет 0.9421495183345611\n",
      "Количество баллов равно 19.214951833456098\n"
     ]
    }
   ],
   "source": [
    "print(f1_nn, f1_gb.numpy(), f1_ad.numpy())\n",
    "print(\"Средняя f1 мера составляет\", ((f1_nn+f1_gb+f1_ad)/3).numpy())\n",
    "print(\"Количество баллов равно\", max(min(22,(f1_nn*100+f1_gb*100+f1_ad*100)/3-75),0).numpy())"
   ]
  }
 ],
 "metadata": {
  "colab": {
   "provenance": []
  },
  "gpuClass": "standard",
  "kernelspec": {
   "display_name": "Python 3 (ipykernel)",
   "language": "python",
   "name": "python3"
  },
  "language_info": {
   "codemirror_mode": {
    "name": "ipython",
    "version": 3
   },
   "file_extension": ".py",
   "mimetype": "text/x-python",
   "name": "python",
   "nbconvert_exporter": "python",
   "pygments_lexer": "ipython3",
   "version": "3.9.7"
  }
 },
 "nbformat": 4,
 "nbformat_minor": 1
}
